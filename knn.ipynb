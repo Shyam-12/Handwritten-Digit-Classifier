{
 "cells": [
  {
   "cell_type": "code",
   "execution_count": 1,
   "id": "6c0303db-86c6-4b2e-8a66-4af39c7ca2ac",
   "metadata": {},
   "outputs": [],
   "source": [
    "import numpy as np\n",
    "import matplotlib.pyplot as plt\n",
    "#from sklearn.datasets import make_blobs\n",
    "from sklearn.model_selection import train_test_split"
   ]
  },
  {
   "cell_type": "code",
   "execution_count": 2,
   "id": "67aa9e80-d8c9-4220-ac72-84e2766f3556",
   "metadata": {},
   "outputs": [],
   "source": [
    "data = np.load('./datasets/mnist_train_small.npy')\n",
    "# data = tf.keras.datasets.mnist.load_data(path=\"mnist.npz\")"
   ]
  },
  {
   "cell_type": "code",
   "execution_count": 3,
   "id": "29293e21-55c6-41b6-b172-047c5e381db8",
   "metadata": {},
   "outputs": [
    {
     "data": {
      "text/plain": [
       "array([[5, 0, 0, ..., 0, 0, 0],\n",
       "       [7, 0, 0, ..., 0, 0, 0],\n",
       "       [9, 0, 0, ..., 0, 0, 0],\n",
       "       ...,\n",
       "       [2, 0, 0, ..., 0, 0, 0],\n",
       "       [9, 0, 0, ..., 0, 0, 0],\n",
       "       [5, 0, 0, ..., 0, 0, 0]], dtype=uint8)"
      ]
     },
     "execution_count": 3,
     "metadata": {},
     "output_type": "execute_result"
    }
   ],
   "source": [
    "data"
   ]
  },
  {
   "cell_type": "code",
   "execution_count": 4,
   "id": "2454fb5a-89da-44b5-9867-f129f1a3af16",
   "metadata": {},
   "outputs": [],
   "source": [
    "X = data[:, 1:]\n",
    "y = data[:, 0]\n",
    "# (X_train, y_train) , (X_test, y_test) = keras.datasets.mnist.load_data()"
   ]
  },
  {
   "cell_type": "code",
   "execution_count": 5,
   "id": "d366fa47-24af-402d-ac92-828cc735ba57",
   "metadata": {},
   "outputs": [],
   "source": [
    "# X_train.shape, y_train.shape"
   ]
  },
  {
   "cell_type": "code",
   "execution_count": 6,
   "id": "2063f280-2b1d-445e-ab38-b20cfc5d006c",
   "metadata": {},
   "outputs": [],
   "source": [
    "# X_test.shape, y_test.shape"
   ]
  },
  {
   "cell_type": "code",
   "execution_count": 7,
   "id": "db285863-cc09-40b4-82cd-fc2ac947a6b6",
   "metadata": {},
   "outputs": [],
   "source": [
    "# plt.imshow(X_train[0].reshape(28, 28), cmap='gray')"
   ]
  },
  {
   "cell_type": "code",
   "execution_count": 8,
   "id": "adc4aeff-d9ed-417b-9256-2258d9393a6e",
   "metadata": {},
   "outputs": [],
   "source": [
    "# y_train[0]"
   ]
  },
  {
   "cell_type": "code",
   "execution_count": 9,
   "id": "d026e578-5cc1-4d48-9fe5-4ea524b36c1d",
   "metadata": {},
   "outputs": [],
   "source": [
    " #X, y = make_blobs(n_samples=1000, centers=3, random_state=42)"
   ]
  },
  {
   "cell_type": "code",
   "execution_count": 10,
   "id": "02642a6c-ec46-49f6-b4ce-7dc3083fb82b",
   "metadata": {},
   "outputs": [],
   "source": [
    "#plt.scatter(X[:, 0], X[:, 1:], c = y)"
   ]
  },
  {
   "cell_type": "code",
   "execution_count": 11,
   "id": "8b7ec741-fbb5-4d2c-b1f0-f4faa66e9605",
   "metadata": {},
   "outputs": [],
   "source": [
    "X_train, X_test, y_train, y_test = train_test_split(X, y, test_size=0.33, random_state=42)\n"
   ]
  },
  {
   "cell_type": "code",
   "execution_count": 12,
   "id": "b3f899fc-aa12-460a-b6a8-5293351eeed7",
   "metadata": {},
   "outputs": [
    {
     "data": {
      "text/plain": [
       "((13399, 784), (13399,), (6600, 784), (6600,))"
      ]
     },
     "execution_count": 12,
     "metadata": {},
     "output_type": "execute_result"
    }
   ],
   "source": [
    "X_train.shape, y_train.shape, X_test.shape, y_test.shape"
   ]
  },
  {
   "cell_type": "code",
   "execution_count": 13,
   "id": "22380d4f-a1c7-49ee-9359-96c9da60d5d2",
   "metadata": {},
   "outputs": [],
   "source": [
    "# scale this training and test datasets\n",
    "# X_train = X_train / 255\n",
    "# X_test = X_test / 255"
   ]
  },
  {
   "cell_type": "code",
   "execution_count": 14,
   "id": "6fe5a183-8e9d-479c-ab2e-ab7d5a4ae100",
   "metadata": {},
   "outputs": [],
   "source": [
    "# convert the 2-d matrix to a 1-d array by using this\n",
    "# X_train = X_train.reshape(-1,28,28,1)    #training set\n",
    "# X_test = X_test.reshape(-1,28,28,1)      #test set"
   ]
  },
  {
   "cell_type": "code",
   "execution_count": 15,
   "id": "716caecb-09e8-4527-ace8-3c26cba5497c",
   "metadata": {},
   "outputs": [],
   "source": [
    "# from sklearn.neighbors import KNeighborsClassifier"
   ]
  },
  {
   "cell_type": "code",
   "execution_count": 16,
   "id": "68370ce2-bd59-478b-9710-6eef713eaa2b",
   "metadata": {},
   "outputs": [],
   "source": [
    "# model = KNeighborsClassifier()"
   ]
  },
  {
   "cell_type": "code",
   "execution_count": 17,
   "id": "2db2597a-43b3-454e-bd94-3892bf46c055",
   "metadata": {},
   "outputs": [],
   "source": [
    "#training the model happens in fit function\n",
    "# plotting the points on the graph happens\n",
    "#no work is happening in teh training the knn modebl \n",
    "# model.fit(X_train, y_train)"
   ]
  },
  {
   "cell_type": "code",
   "execution_count": 18,
   "id": "a6b8e942-42ee-445b-a42c-19ad634b397d",
   "metadata": {},
   "outputs": [],
   "source": [
    "# model.predict(X_test[:10])"
   ]
  },
  {
   "cell_type": "code",
   "execution_count": 19,
   "id": "a36769eb-b726-4ff3-826e-5cba2fcc5e1e",
   "metadata": {},
   "outputs": [],
   "source": [
    "# y_test[:10]"
   ]
  },
  {
   "cell_type": "code",
   "execution_count": 20,
   "id": "3c58ceb2-1e1c-4491-a9ea-b86a8e110892",
   "metadata": {},
   "outputs": [],
   "source": [
    "# plt.imshow(X_test[8].reshape(28, 28), cmap='gray')"
   ]
  },
  {
   "cell_type": "code",
   "execution_count": 21,
   "id": "1bfa83e8-0fff-4ecf-8e56-e19517365c6e",
   "metadata": {},
   "outputs": [],
   "source": [
    "# model.score(X_test[:100], y_test[:100])"
   ]
  },
  {
   "cell_type": "code",
   "execution_count": 22,
   "id": "0bc0d2a5-ece1-4381-a344-eb90ffdaa897",
   "metadata": {},
   "outputs": [],
   "source": [
    "# plt.imshow(X_test[24].reshape(28, 28), cmap='gray')"
   ]
  },
  {
   "cell_type": "code",
   "execution_count": 23,
   "id": "d811499d-0ca8-478d-9f82-14010b4c1843",
   "metadata": {},
   "outputs": [],
   "source": [
    "# y_test[24]"
   ]
  },
  {
   "cell_type": "markdown",
   "id": "bbc759de-83a1-4590-b869-deacbb8037e3",
   "metadata": {},
   "source": [
    "***CUSTOM KNN***"
   ]
  },
  {
   "cell_type": "code",
   "execution_count": 28,
   "id": "0be885de-fb24-4bb0-8c8a-d0d113c781d4",
   "metadata": {},
   "outputs": [],
   "source": [
    "class CustomKNN:\n",
    "    #constructor\n",
    "    def __init__(self, n_neighbours=5):\n",
    "        self.n_neighbours = n_neighbours\n",
    "        \n",
    "    #training functions\n",
    "    def fit(self, X, y):\n",
    "        # training points\n",
    "        self._X = X.astype(np.int64)\n",
    "        self._y = y.astype(np.int64)\n",
    "    \n",
    "    #predict point\n",
    "    #given a single point tell mew which class it belongs to\n",
    "    def predict_point(self, point):\n",
    "        #store the distances of given points from each point in the training data\n",
    "        list_dist=[]\n",
    "        \n",
    "        #points from training data\n",
    "        for x_point, y_point in zip(self._X, self._y):\n",
    "            dist_point = ((point - x_point) ** 2).sum()\n",
    "            list_dist.append([dist_point, y_point])\n",
    "            \n",
    "        #sorting the list according to the distance\n",
    "        sorted_dist = sorted(list_dist)\n",
    "        top_k = sorted_dist[:self.n_neighbours]\n",
    "        \n",
    "        #taking the count\n",
    "        items, count = np.unique(np.array(top_k)[:, 1], return_counts=True)\n",
    "        ans = items[np.argmax(count)]\n",
    "        return ans\n",
    "    \n",
    "    #predict\n",
    "    #give me answer foe each number in the array\n",
    "    def predict(self, X):\n",
    "        results = []\n",
    "        \n",
    "        for point in X:\n",
    "            results.append(self.predict_point(point))\n",
    "            \n",
    "        return np.array(results, dtype=int)\n",
    "    \n",
    "    #score to measure accuracy\n",
    "    def score(self, X, y):\n",
    "        return sum(self.predict(X) == y) / len(y)"
   ]
  },
  {
   "cell_type": "code",
   "execution_count": 29,
   "id": "5852f248-19c1-46b8-ad98-fbd62146cba7",
   "metadata": {},
   "outputs": [],
   "source": [
    "model2 = CustomKNN()"
   ]
  },
  {
   "cell_type": "code",
   "execution_count": 30,
   "id": "999b6d0d-f107-435b-9299-c940adc4f931",
   "metadata": {},
   "outputs": [],
   "source": [
    "model2.fit(X_train, y_train)"
   ]
  },
  {
   "cell_type": "code",
   "execution_count": 31,
   "id": "dc9f3a21-6e3a-4246-b40a-89a15f83e6a2",
   "metadata": {},
   "outputs": [
    {
     "data": {
      "text/plain": [
       "array([1, 7, 0, 9, 4, 5, 4, 6, 9, 2])"
      ]
     },
     "execution_count": 31,
     "metadata": {},
     "output_type": "execute_result"
    }
   ],
   "source": [
    "model2.predict(X_test[:10])"
   ]
  },
  {
   "cell_type": "code",
   "execution_count": 32,
   "id": "4c4e422c-5fce-4fc8-9dac-b846158cebb6",
   "metadata": {},
   "outputs": [
    {
     "data": {
      "text/plain": [
       "array([7, 7, 0, 9, 4, 5, 4, 6, 9, 2], dtype=uint8)"
      ]
     },
     "execution_count": 32,
     "metadata": {},
     "output_type": "execute_result"
    }
   ],
   "source": [
    "y_test[:10]"
   ]
  },
  {
   "cell_type": "code",
   "execution_count": 33,
   "id": "6156c960-6890-437f-8b37-90e6054f68f6",
   "metadata": {},
   "outputs": [
    {
     "data": {
      "text/plain": [
       "0.95"
      ]
     },
     "execution_count": 33,
     "metadata": {},
     "output_type": "execute_result"
    }
   ],
   "source": [
    "model2.score(X_test[:100], y_test[:100])"
   ]
  },
  {
   "cell_type": "code",
   "execution_count": null,
   "id": "da0d476b-e8c8-4f42-8ae1-48b1ffa3a099",
   "metadata": {},
   "outputs": [],
   "source": []
  },
  {
   "cell_type": "code",
   "execution_count": null,
   "id": "054edd76-58a6-4ff8-9188-dad43deb87a5",
   "metadata": {},
   "outputs": [],
   "source": []
  },
  {
   "cell_type": "markdown",
   "id": "a248f53e-622d-43bc-9401-203f65cfd685",
   "metadata": {},
   "source": [
    "## DEMO"
   ]
  },
  {
   "cell_type": "code",
   "execution_count": null,
   "id": "b97b7877-c168-4965-aebc-b4447f557eac",
   "metadata": {},
   "outputs": [],
   "source": [
    "#what zip does\n",
    "X = [1, 2, 3, 2, 4]\n",
    "y = [0, 1, 2,1 , 0]\n",
    "list(zip(X, y))"
   ]
  },
  {
   "cell_type": "code",
   "execution_count": null,
   "id": "21488a43-8902-450b-aafe-b053604f8492",
   "metadata": {},
   "outputs": [],
   "source": [
    "#to count the most occurrence\n",
    "li = [\n",
    "    [2, 0],\n",
    "    [4, 1],\n",
    "    [5, 0],\n",
    "    [7, 0],\n",
    "    [11, 2]\n",
    "]"
   ]
  },
  {
   "cell_type": "code",
   "execution_count": null,
   "id": "9c16f365-cd2d-4d93-bd7b-03d1d86a67fa",
   "metadata": {},
   "outputs": [],
   "source": [
    "sorted_li = sorted(li)"
   ]
  },
  {
   "cell_type": "code",
   "execution_count": null,
   "id": "c9065a5b-62ba-4f70-b938-8f1f979e3976",
   "metadata": {},
   "outputs": [],
   "source": [
    "top_k = sorted_li[:5]"
   ]
  },
  {
   "cell_type": "code",
   "execution_count": null,
   "id": "59629136-bac1-4080-a172-bcf642dd1334",
   "metadata": {},
   "outputs": [],
   "source": [
    "top_k"
   ]
  },
  {
   "cell_type": "code",
   "execution_count": null,
   "id": "6440f745-8146-4193-b022-358957d19c58",
   "metadata": {},
   "outputs": [],
   "source": [
    "li, counts = np.unique(np.array(top_k)[:, 1], return_counts=True)"
   ]
  },
  {
   "cell_type": "code",
   "execution_count": null,
   "id": "be85fead-4de0-4fcd-9a57-8b5915e3dddd",
   "metadata": {},
   "outputs": [],
   "source": [
    "np.argmax(counts)"
   ]
  },
  {
   "cell_type": "code",
   "execution_count": null,
   "id": "60526c40-3fc8-4e1d-a017-df070d633ac6",
   "metadata": {},
   "outputs": [],
   "source": []
  }
 ],
 "metadata": {
  "kernelspec": {
   "display_name": "Python 3 (ipykernel)",
   "language": "python",
   "name": "python3"
  },
  "language_info": {
   "codemirror_mode": {
    "name": "ipython",
    "version": 3
   },
   "file_extension": ".py",
   "mimetype": "text/x-python",
   "name": "python",
   "nbconvert_exporter": "python",
   "pygments_lexer": "ipython3",
   "version": "3.9.12"
  }
 },
 "nbformat": 4,
 "nbformat_minor": 5
}
